{
 "cells": [
  {
   "cell_type": "code",
   "execution_count": 194,
   "metadata": {},
   "outputs": [
    {
     "data": {
      "text/plain": [
       "train (generic function with 2 methods)"
      ]
     },
     "execution_count": 194,
     "metadata": {},
     "output_type": "execute_result"
    }
   ],
   "source": [
    "using Random, Distributions\n",
    "\n",
    "numactions = 3\n",
    "oppstrategy = [0.4, 0.3, 0.3];\n",
    "\n",
    "function pos(x)\n",
    "    x > 0.0 ? x : 0.0\n",
    "end\n",
    "\n",
    "function normalize(xs)\n",
    "    total = sum(xs)\n",
    "    n = length(xs)\n",
    "    if total > 0\n",
    "        return map(x -> x / total, xs)\n",
    "    else\n",
    "         return fill(1.0 / n, n)\n",
    "    end\n",
    "end\n",
    "\n",
    "function regrets2strat(regrets)\n",
    "    strategy = map(pos, regrets)\n",
    "    normalize(strategy)\n",
    "end\n",
    "\n",
    "function action(strategy)\n",
    "    d = Categorical(strategy)\n",
    "    rand(d)\n",
    "end\n",
    "\n",
    "function utility(a, b)\n",
    "    if a == b return 0 end\n",
    "    if a == 1 && b == 3 return 1 end\n",
    "    if b == 1 && a == 3 return -1 end\n",
    "    a > b ? 1 : -1\n",
    "end\n",
    "    \n",
    "function train(n, f1, f2)\n",
    "    regrets = (zeros(numactions), zeros(numactions))\n",
    "    strategys = (zeros(numactions), zeros(numactions))\n",
    "    for _ in 1:n\n",
    "        # Get regret-matched mixed-strategy actions\n",
    "        strats = (f1(regrets[1]), f2(regrets[2]))\n",
    "        strategys = strategys .+ strats\n",
    "        actions = map(action, strats)\n",
    "        # Accumulate action regrets\n",
    "        for a in 1:numactions\n",
    "            regrets[1][a] += utility(a, actions[2]) - utility(actions[1], actions[2])\n",
    "            regrets[2][a] += -utility(actions[1], a) + utility(actions[2], actions[1])\n",
    "        end\n",
    "    end\n",
    "    strats = map(regrets2strat, regrets)\n",
    "    map(normalize, strategys .+ strats)\n",
    "end"
   ]
  },
  {
   "cell_type": "code",
   "execution_count": 195,
   "metadata": {},
   "outputs": [
    {
     "data": {
      "text/plain": [
       "([0.9999942047677001, 3.333330000003333e-7, 5.461899300005462e-6], [0.29999969999643744, 0.3000006999954375, 0.399999600008125])"
      ]
     },
     "execution_count": 195,
     "metadata": {},
     "output_type": "execute_result"
    }
   ],
   "source": [
    "train(1_000_000, regrets2strat, x -> [0.3, 0.3, 0.4])"
   ]
  },
  {
   "cell_type": "code",
   "execution_count": 1,
   "metadata": {},
   "outputs": [
    {
     "data": {
      "text/plain": [
       "Dict{String,Float64} with 2 entries:\n",
       "  \"b\" => 0.75\n",
       "  \"a\" => 0.25"
      ]
     },
     "execution_count": 1,
     "metadata": {},
     "output_type": "execute_result"
    }
   ],
   "source": [
    "d = Dict(\"a\" => .25, \"b\" => .75)"
   ]
  },
  {
   "cell_type": "code",
   "execution_count": 3,
   "metadata": {},
   "outputs": [
    {
     "data": {
      "text/plain": [
       "2-element Array{Pair{String,Float64},1}:\n",
       " \"b\" => 0.75\n",
       " \"a\" => 0.25"
      ]
     },
     "execution_count": 3,
     "metadata": {},
     "output_type": "execute_result"
    }
   ],
   "source": [
    "a = collect(d)"
   ]
  },
  {
   "cell_type": "code",
   "execution_count": 7,
   "metadata": {},
   "outputs": [
    {
     "data": {
      "text/plain": [
       "0.75"
      ]
     },
     "execution_count": 7,
     "metadata": {},
     "output_type": "execute_result"
    }
   ],
   "source": [
    "a[1][2]"
   ]
  },
  {
   "cell_type": "code",
   "execution_count": 10,
   "metadata": {},
   "outputs": [
    {
     "data": {
      "text/plain": [
       "0.6896074256199405"
      ]
     },
     "execution_count": 10,
     "metadata": {},
     "output_type": "execute_result"
    }
   ],
   "source": [
    "rand()"
   ]
  },
  {
   "cell_type": "code",
   "execution_count": null,
   "metadata": {},
   "outputs": [],
   "source": []
  }
 ],
 "metadata": {
  "kernelspec": {
   "display_name": "Julia 1.2.0",
   "language": "julia",
   "name": "julia-1.2"
  },
  "language_info": {
   "file_extension": ".jl",
   "mimetype": "application/julia",
   "name": "julia",
   "version": "1.2.0"
  }
 },
 "nbformat": 4,
 "nbformat_minor": 2
}
