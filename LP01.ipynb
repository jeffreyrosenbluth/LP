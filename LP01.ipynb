{
 "cells": [
  {
   "cell_type": "code",
   "execution_count": 36,
   "metadata": {},
   "outputs": [
    {
     "data": {
      "text/plain": [
       "displayresult (generic function with 1 method)"
      ]
     },
     "execution_count": 36,
     "metadata": {},
     "output_type": "execute_result"
    }
   ],
   "source": [
    "using Random, Distributions, Printf\n",
    "using LinearAlgebra: dot, ⋅\n",
    "using Profile, BenchmarkTools\n",
    "\n",
    "#bids = [10, 11, 12, 13, 20, 21, 22, 23, 30, 31, 32, 33, 40, 41, 42, 43]\n",
    "bids = [10, 11, 20, 21, 30, 31, 40, 41]\n",
    "\n",
    "mutable struct Node{K<:Integer, V<:AbstractFloat}\n",
    "    regretsum::Dict{K, V}\n",
    "    strategy::Dict{K, V}\n",
    "    strategysum::Dict{K, V}\n",
    "end\n",
    "\n",
    "function key(hand, history)\n",
    "    handstr = join(hand)\n",
    "    histstr = join(history)\n",
    "    handstr * histstr\n",
    "end\n",
    "\n",
    "pos(x) = x > 0 ? x : zero(x)\n",
    "\n",
    "issomething(s) = !isnothing(s)\n",
    "\n",
    "Base.map(f, dict::AbstractDict) = Dict(k => f(v) for (k, v) in dict)\n",
    "\n",
    "function normalize(xs)\n",
    "    total = sum(values(xs))\n",
    "    n = length(xs)\n",
    "    total > 0 ? map(x -> x / total, xs) : map(_ -> 1.0 / n, xs)\n",
    "end\n",
    "\n",
    "parsebid(n) = (n ÷ 10, n % 10)\n",
    "\n",
    "function getstrategy(node, realizationweight)\n",
    "    node.strategy = map(pos, node.regretsum) |> normalize\n",
    "    for (k, v) in node.strategy\n",
    "        node.strategysum[k] += realizationweight * v\n",
    "    end\n",
    "    node.strategy\n",
    "end\n",
    "    \n",
    "function getnode(policys, hand, history)\n",
    "    k = key(hand, history)\n",
    "    if !haskey(policys, k)\n",
    "        dict()::Dict{UInt8, Float64} = Dict(k => 0.0 for k in actions(history))\n",
    "        node = Node(dict(), dict(), dict())\n",
    "        policys[k] = node\n",
    "    end\n",
    "    policys[k]\n",
    "end\n",
    "\n",
    "function terminal(history, hands)\n",
    "    plays = length(history)\n",
    "    if plays > 2\n",
    "        if history[end] == 1\n",
    "            (quant, rank) = parsebid(history[end-2])\n",
    "            cnt = count(c -> c == rank, hands[1]) + count(c -> c == rank, hands[2])\n",
    "            return cnt >= quant ? -1 : 1\n",
    "        end\n",
    "    end\n",
    "    return nothing\n",
    "end\n",
    "\n",
    "function actions(history)\n",
    "    n = length(history)\n",
    "    if n > 2 && history[end-2] == 0 && history[end] == 0\n",
    "        return [1]\n",
    "    elseif n > 1 && history[end] == 0\n",
    "        return  pushfirst!(filter(x -> x > history[end-1], bids), 1)\n",
    "    elseif n > 0\n",
    "        return pushfirst!(filter(x -> x > history[end], bids), 0)\n",
    "    else\n",
    "        return bids\n",
    "    end\n",
    "end\n",
    "                    \n",
    "function cfr(policys, hands, history, p1, p2)::Float64\n",
    "    \n",
    "    terminalutility = terminal(history, hands)\n",
    "    if issomething(terminalutility)\n",
    "        return terminalutility\n",
    "    end\n",
    "    \n",
    "    player = length(history) % 2 + 1\n",
    "    prob = [p1, p2][player]\n",
    "    node = getnode(policys, hands[player], history)\n",
    "    strategy = getstrategy(node, prob)\n",
    "    util = Dict{UInt8, Float64}()\n",
    "    for a in actions(history)\n",
    "        nexthistory = copy(history)\n",
    "        push!(nexthistory, a)\n",
    "        util[a] = player == 1 ?\n",
    "            -cfr(policys, hands, nexthistory, p1 * strategy[a], p2) :\n",
    "            -cfr(policys, hands, nexthistory, p1, p2 * strategy[a])\n",
    "    end\n",
    "    nodeutil = 0.0\n",
    "    regret = Dict()\n",
    "    for (k, v) in strategy\n",
    "        nodeutil += v * util[k]\n",
    "        regret[k] = util[k] - nodeutil\n",
    "        node.regretsum[k] += [p2, p1][player] * regret[k]\n",
    "    end\n",
    "    nodeutil\n",
    "end\n",
    "\n",
    "function train(n)\n",
    "    policys = Dict{String, Node{UInt8, Float64}}()\n",
    "    util = 0.0\n",
    "    for _ in 1:n\n",
    "        hands = [sort!(rand(0:1,2)), sort!(rand(0:1,2))]\n",
    "        util += cfr(policys, hands, [], 1.0, 1.0)\n",
    "    end\n",
    "    println(util / n)\n",
    "    ps = Dict{String, Dict{UInt8, Float64}}()\n",
    "    for (k, v::Node{UInt8, Float64}) in policys\n",
    "        s = v.strategysum\n",
    "        ps[k] = normalize(s)\n",
    "    end\n",
    "    policys, ps\n",
    "end\n",
    "\n",
    "function displayresult(d)\n",
    "    for (k, v) in d\n",
    "        print(k, \" => \")\n",
    "        map(x -> @printf(\"%0.2f, \", x), v)\n",
    "        println()\n",
    "    end\n",
    "end"
   ]
  },
  {
   "cell_type": "code",
   "execution_count": 37,
   "metadata": {},
   "outputs": [
    {
     "name": "stdout",
     "output_type": "stream",
     "text": [
      "0.11801737439163165\n",
      "  2.418754 seconds (22.40 M allocations: 1.399 GiB, 26.75% gc time)\n"
     ]
    }
   ],
   "source": [
    "@time train(100);"
   ]
  },
  {
   "cell_type": "code",
   "execution_count": 38,
   "metadata": {},
   "outputs": [
    {
     "name": "stdout",
     "output_type": "stream",
     "text": [
      "0.08931528333205331\n"
     ]
    }
   ],
   "source": [
    "policys, p = train(100_000);"
   ]
  },
  {
   "cell_type": "code",
   "execution_count": null,
   "metadata": {},
   "outputs": [],
   "source": [
    "print(p)\n",
    "println(\"-----\")\n",
    "displayresult(sort(p))\n",
    "println(\"-----\")\n",
    "print(policys)"
   ]
  },
  {
   "cell_type": "code",
   "execution_count": 51,
   "metadata": {},
   "outputs": [
    {
     "data": {
      "text/plain": [
       "Dict{UInt8,Float64} with 4 entries:\n",
       "  0x00 => 0.280437\n",
       "  0x1f => 0.204794\n",
       "  0x28 => 0.514759\n",
       "  0x29 => 1.00815e-5"
      ]
     },
     "execution_count": 51,
     "metadata": {},
     "output_type": "execute_result"
    }
   ],
   "source": [
    "p[\"0030\"]"
   ]
  },
  {
   "cell_type": "code",
   "execution_count": null,
   "metadata": {},
   "outputs": [],
   "source": []
  }
 ],
 "metadata": {
  "kernelspec": {
   "display_name": "Julia 1.2.0",
   "language": "julia",
   "name": "julia-1.2"
  },
  "language_info": {
   "file_extension": ".jl",
   "mimetype": "application/julia",
   "name": "julia",
   "version": "1.2.0"
  }
 },
 "nbformat": 4,
 "nbformat_minor": 2
}
