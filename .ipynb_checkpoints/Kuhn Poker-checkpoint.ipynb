{
 "cells": [
  {
   "cell_type": "code",
   "execution_count": 41,
   "metadata": {},
   "outputs": [
    {
     "data": {
      "text/plain": [
       "displayresult (generic function with 1 method)"
      ]
     },
     "execution_count": 41,
     "metadata": {},
     "output_type": "execute_result"
    }
   ],
   "source": [
    "using Random, Distributions, Printf\n",
    "using LinearAlgebra: dot, ⋅\n",
    "\n",
    "numactions = 2\n",
    "\n",
    "mutable struct Node\n",
    "    regretsum::Vector{AbstractFloat}\n",
    "    strategy::Vector{AbstractFloat}\n",
    "    strategysum::Vector{AbstractFloat}\n",
    "end\n",
    "\n",
    "function Base.show(io::IO, n::Node)\n",
    "    sprintarr(a) = map(x -> @sprintf(\"%0.2f, \", x), a) |> join\n",
    "    @printf(\"r: %s s: %s ss: %s\\n\", sprintarr(n.regretsum), \n",
    "        sprintarr(n.strategy), sprintarr(n.strategysum))\n",
    "end\n",
    "\n",
    "struct Infoset\n",
    "    hand::Vector{UInt8}\n",
    "    history::Vector{Char}\n",
    "end\n",
    "\n",
    "Base.show(io::IO, i::Infoset) = print(i.hand[1], String(i.history))\n",
    "Base.hash(a::Infoset, h::UInt) = hash(a.history, hash(a.hand, hash(:Infoset, h)))\n",
    "Base.isequal(i1::Infoset, i2::Infoset) = i1.hand == i2.hand && i1.history == i2.history\n",
    "Base.isless(i1::Infoset, i2::Infoset) = i1.hand < i2.hand\n",
    "\n",
    "function Base.show(io::IO, d::Dict{Infoset, Node})\n",
    "    for (k, v) in d\n",
    "        print(k, \" => \", v)\n",
    "    end\n",
    "end\n",
    "\n",
    "pos(x) = x > 0.0 ? x : 0.0\n",
    "\n",
    "issomething(s) = !isnothing(s)\n",
    "\n",
    "function normalize(xs)\n",
    "    total = sum(xs)\n",
    "    n = length(xs)\n",
    "    total > 0 ? xs / total : fill(1.0 / n, n)\n",
    "end\n",
    "\n",
    "function getstrategy(node, realizationweight)\n",
    "    node.strategy = map(pos, node.regretsum) |> normalize\n",
    "    node.strategysum += realizationweight * node.strategy\n",
    "    node.strategy\n",
    "end\n",
    "    \n",
    "function getnode(policys, infoset)\n",
    "    if !haskey(policys, infoset)\n",
    "        node = Node(zeros(numactions), zeros(numactions), zeros(numactions))\n",
    "        policys[infoset] = node\n",
    "    end\n",
    "    policys[infoset]\n",
    "end\n",
    "\n",
    "function terminal(history, cards)\n",
    "    plays = length(history)\n",
    "    if plays > 1\n",
    "        player = plays % 2 + 1\n",
    "        opponent = player % 2 + 1 \n",
    "        playercardhigher = cards[player] > cards[opponent]\n",
    "        if history[end] == 'p' # terminal pass\n",
    "            if history == ['p', 'p']\n",
    "                return playercardhigher ? 1 : -1\n",
    "            else\n",
    "                return 1\n",
    "            end\n",
    "        elseif history[end-1:end] == ['b', 'b'] # double bet\n",
    "            return playercardhigher ? 2 : -2\n",
    "        end\n",
    "    end\n",
    "    return nothing\n",
    "end\n",
    "\n",
    "function cfr(policys::Dict{Infoset, Node}, cards, history, p1, p2)\n",
    "    terminalutility = terminal(history, cards)\n",
    "    if issomething(terminalutility)\n",
    "        return terminalutility\n",
    "    end\n",
    "    \n",
    "    player = length(history) % 2 + 1\n",
    "    prob = [p1, p2][player]\n",
    "    infoset = Infoset([cards[player]], history)\n",
    "    node = getnode(policys, infoset)\n",
    "    strategy = getstrategy(node, prob)\n",
    "    util = zeros(numactions)\n",
    "    for a in 1:numactions\n",
    "        nexthistory = copy(history)\n",
    "        push!(nexthistory, ['p', 'b'][a])\n",
    "        util[a] = player == 1 ?\n",
    "            -cfr(policys, cards, nexthistory, p1 * strategy[a], p2) :\n",
    "            -cfr(policys, cards, nexthistory, p1, p2 * strategy[a])\n",
    "    end\n",
    "    nodeutil = strategy ⋅ util\n",
    "    regret = util .- nodeutil\n",
    "    node.regretsum += [p2, p1][player] * regret \n",
    "    nodeutil\n",
    "end\n",
    "\n",
    "function train(policys::Dict{Infoset, Node}, n)\n",
    "    cards = [1, 2, 3]\n",
    "    util = 0.0\n",
    "    for _ in 1:n\n",
    "        shuffle!(cards)\n",
    "        util += cfr(policys, cards, [], 1.0, 1.0)\n",
    "    end\n",
    "    println(util / n)\n",
    "    ps = Dict()\n",
    "    for (k, v) in policys\n",
    "        s = v.strategysum\n",
    "        ps[k] = normalize(s)\n",
    "    end\n",
    "    ps\n",
    "end\n",
    "\n",
    "function displayresult(d)\n",
    "    for (k, v) in d\n",
    "        print(k, \" => \")\n",
    "        map(x -> @printf(\"%0.2f, \", x), v)\n",
    "        println()\n",
    "    end\n",
    "end"
   ]
  },
  {
   "cell_type": "code",
   "execution_count": 42,
   "metadata": {},
   "outputs": [
    {
     "name": "stdout",
     "output_type": "stream",
     "text": [
      "-0.0591940221857793\n",
      "  1.833497 seconds (30.75 M allocations: 1.261 GiB, 8.07% gc time)\n",
      "-----\n",
      "1p => 0.66, 0.34, \n",
      "1pb => 1.00, 0.00, \n",
      "1b => 1.00, 0.00, \n",
      "1 => 0.84, 0.16, \n",
      "2b => 0.66, 0.34, \n",
      "2pb => 0.51, 0.49, \n",
      "2 => 1.00, 0.00, \n",
      "2p => 1.00, 0.00, \n",
      "3b => 0.00, 1.00, \n",
      "3pb => 0.00, 1.00, \n",
      "3p => 0.00, 1.00, \n",
      "3 => 0.52, 0.48, \n",
      "-----\n",
      "1p => r: 60.67, 46.41,  s: 0.56, 0.44,  ss: 21976.54, 11337.46, \n",
      "1pb => r: 0.25, -16738.05,  s: 1.00, 0.00,  ss: 28150.23, 0.25, \n",
      "3b => r: -7909.35, 0.50,  s: 0.00, 1.00,  ss: 0.50, 33521.50, \n",
      "2b => r: 50.02, -291.45,  s: 1.00, 0.00,  ss: 21751.64, 11412.36, \n",
      "1b => r: 0.25, -7939.00,  s: 1.00, 0.00,  ss: 33313.50, 0.50, \n",
      "1 => r: 79.59, -556.62,  s: 1.00, 0.00,  ss: 28150.48, 5184.52, \n",
      "2pb => r: -33.88, 132.63,  s: 0.00, 1.00,  ss: 16965.18, 16457.62, \n",
      "3pb => r: -17065.76, 1.50,  s: 0.00, 1.00,  ss: 0.25, 17283.58, \n",
      "3p => r: -8265.50, 0.33,  s: 0.00, 1.00,  ss: 0.50, 33521.50, \n",
      "2 => r: 2.62, -5513.92,  s: 1.00, 0.00,  ss: 33422.80, 16.20, \n",
      "2p => r: 0.49, -8552.87,  s: 1.00, 0.00,  ss: 33159.40, 4.60, \n",
      "3 => r: 15.07, 40.35,  s: 0.27, 0.73,  ss: 17283.83, 15942.17, \n"
     ]
    }
   ],
   "source": [
    "policys = Dict{Infoset, Node}()\n",
    "p = @time train(policys, 100_000)\n",
    "println(\"-----\")\n",
    "displayresult(sort(p))\n",
    "println(\"-----\")\n",
    "print(policys)"
   ]
  },
  {
   "cell_type": "code",
   "execution_count": 40,
   "metadata": {},
   "outputs": [
    {
     "data": {
      "text/plain": [
       "12"
      ]
     },
     "execution_count": 40,
     "metadata": {},
     "output_type": "execute_result"
    }
   ],
   "source": [
    "length(policys)"
   ]
  },
  {
   "cell_type": "code",
   "execution_count": null,
   "metadata": {},
   "outputs": [],
   "source": []
  }
 ],
 "metadata": {
  "kernelspec": {
   "display_name": "Julia 1.2.0",
   "language": "julia",
   "name": "julia-1.2"
  },
  "language_info": {
   "file_extension": ".jl",
   "mimetype": "application/julia",
   "name": "julia",
   "version": "1.2.0"
  }
 },
 "nbformat": 4,
 "nbformat_minor": 2
}
